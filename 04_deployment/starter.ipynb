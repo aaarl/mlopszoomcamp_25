{
 "cells": [
  {
   "cell_type": "markdown",
   "id": "6e485248",
   "metadata": {},
   "source": [
    "### 🚕 Ride Duration Prediction – Batch Mode\n",
    "\n",
    "In this notebook, I apply a pre-trained ride duration model to NYC Yellow Taxi data (March 2023).  \n",
    "The workflow follows a batch inference process and replicates key elements from a previous homework,  \n",
    "but with styling and context adjustments to suit personal use. All important outputs are retained."
   ]
  },
  {
   "cell_type": "markdown",
   "id": "70547ac9",
   "metadata": {},
   "source": [
    "#### 🔧 Environment Check"
   ]
  },
  {
   "cell_type": "code",
   "execution_count": 1,
   "id": "0d4bc434",
   "metadata": {},
   "outputs": [
    {
     "name": "stdout",
     "output_type": "stream",
     "text": [
      "scikit-learn==1.7.0\n"
     ]
    }
   ],
   "source": [
    "!pip freeze | findstr scikit-learn"
   ]
  },
  {
   "cell_type": "code",
   "execution_count": 2,
   "id": "beaf9c76",
   "metadata": {},
   "outputs": [
    {
     "name": "stdout",
     "output_type": "stream",
     "text": [
      "Python 3.10.9\n"
     ]
    }
   ],
   "source": [
    "!python -V"
   ]
  },
  {
   "cell_type": "markdown",
   "id": "f1d1931f",
   "metadata": {},
   "source": [
    "#### 📦 Load Model and Tools"
   ]
  },
  {
   "cell_type": "code",
   "execution_count": 3,
   "id": "2d1421d5",
   "metadata": {},
   "outputs": [],
   "source": [
    "import pickle\n",
    "import pandas as pd"
   ]
  },
  {
   "cell_type": "markdown",
   "id": "6cb50ccf",
   "metadata": {},
   "source": [
    "#### 🧠 Load Trained Model (DictVectorizer + LinearRegression)"
   ]
  },
  {
   "cell_type": "code",
   "execution_count": 4,
   "id": "60ed1e4f",
   "metadata": {},
   "outputs": [],
   "source": [
    "with open('model.bin', 'rb') as f_in:\n",
    "    dv, model = pickle.load(f_in)"
   ]
  },
  {
   "cell_type": "markdown",
   "id": "58ee05f4",
   "metadata": {},
   "source": [
    "#### 📄 Read & Prepare Data"
   ]
  },
  {
   "cell_type": "code",
   "execution_count": 6,
   "id": "c84ac24a",
   "metadata": {},
   "outputs": [],
   "source": [
    "categorical = ['PULocationID', 'DOLocationID']\n",
    "\n",
    "def read_data(filename):\n",
    "    df = pd.read_parquet(filename)\n",
    "    df['duration'] = df.tpep_dropoff_datetime - df.tpep_pickup_datetime\n",
    "    df['duration'] = df.duration.dt.total_seconds() / 60\n",
    "    df = df[(df.duration >= 1) & (df.duration <= 60)].copy()\n",
    "    df[categorical] = df[categorical].fillna(-1).astype('int').astype('str')\n",
    "    return df"
   ]
  },
  {
   "cell_type": "code",
   "execution_count": 7,
   "id": "28d637b0",
   "metadata": {},
   "outputs": [],
   "source": [
    "df = read_data('https://d37ci6vzurychx.cloudfront.net/trip-data/yellow_tripdata_2023-03.parquet')"
   ]
  },
  {
   "cell_type": "markdown",
   "id": "90581ce5",
   "metadata": {},
   "source": [
    "#### 🧮 Run Predictions"
   ]
  },
  {
   "cell_type": "code",
   "execution_count": 8,
   "id": "bd2d3016",
   "metadata": {},
   "outputs": [],
   "source": [
    "dicts = df[categorical].to_dict(orient='records')\n",
    "X_val = dv.transform(dicts)\n",
    "y_pred = model.predict(X_val)"
   ]
  },
  {
   "cell_type": "code",
   "execution_count": 9,
   "id": "952f9ae4",
   "metadata": {},
   "outputs": [
    {
     "data": {
      "text/plain": [
       "np.float64(6.247)"
      ]
     },
     "execution_count": 9,
     "metadata": {},
     "output_type": "execute_result"
    }
   ],
   "source": [
    "round(y_pred.std(), 3)"
   ]
  },
  {
   "cell_type": "markdown",
   "id": "de7b3c11",
   "metadata": {},
   "source": [
    "#### 🆔 Create ride_id and Save Results"
   ]
  },
  {
   "cell_type": "code",
   "execution_count": 21,
   "id": "664873ea",
   "metadata": {},
   "outputs": [],
   "source": [
    "df['ride_id'] = (\n",
    "    df['tpep_pickup_datetime'].dt.year.astype(str).str.zfill(4) + '/' +\n",
    "    df['tpep_pickup_datetime'].dt.month.astype(str).str.zfill(2) + '_' +\n",
    "    df.index.astype(str)\n",
    ")\n",
    "df_result = df[['ride_id']].copy()\n",
    "df_result['duration'] = y_pred\n",
    "output_file = \"output/result.parquet\"\n",
    "df_result.to_parquet(output_file, engine='pyarrow', compression=None, index=False)"
   ]
  },
  {
   "cell_type": "code",
   "execution_count": 22,
   "id": "d9cc912f",
   "metadata": {},
   "outputs": [
    {
     "name": "stdout",
     "output_type": "stream",
     "text": [
      "File size: 68,640,820 bytes (65.46 MB)\n"
     ]
    }
   ],
   "source": [
    "import os\n",
    "size_bytes = os.path.getsize(output_file)\n",
    "size_mb = size_bytes / (1024 * 1024)\n",
    "print(f\"File size: {size_bytes:,} bytes ({size_mb:.2f} MB)\")"
   ]
  },
  {
   "cell_type": "markdown",
   "id": "0e8f5aa0",
   "metadata": {},
   "source": [
    "#### 🧪 Dependency Hash Check"
   ]
  },
  {
   "cell_type": "code",
   "execution_count": 49,
   "id": "ab843079",
   "metadata": {},
   "outputs": [
    {
     "name": "stdout",
     "output_type": "stream",
     "text": [
      "sha256:057b991ac64b3e75c9c04b5f9395eaf19a6179244c089afdebaad98264bff37c\n"
     ]
    }
   ],
   "source": [
    "from json import load\n",
    "with open(\"Pipfile.lock\", \"rb\") as file_in:\n",
    "    pipfile = load(file_in)\n",
    "    print(pipfile[\"default\"][\"scikit-learn\"][\"hashes\"][0])"
   ]
  },
  {
   "cell_type": "markdown",
   "id": "b65a2103",
   "metadata": {},
   "source": [
    "#### 🐳 Run Dockerized Prediction Script"
   ]
  },
  {
   "cell_type": "code",
   "execution_count": 56,
   "id": "0111ba5b",
   "metadata": {},
   "outputs": [
    {
     "name": "stdout",
     "output_type": "stream",
     "text": [
      "The mean predicted duration is 0.189 minutes\n"
     ]
    }
   ],
   "source": [
    "!docker build -t ride-duration-prediction:v1 . > /dev/null 2>&1\n",
    "!docker run --rm ride-duration-prediction:v1"
   ]
  }
 ],
 "metadata": {
  "kernelspec": {
   "display_name": "mlopsenv",
   "language": "python",
   "name": "python3"
  },
  "language_info": {
   "name": "python",
   "version": "3.10.9"
  }
 },
 "nbformat": 4,
 "nbformat_minor": 5
}
