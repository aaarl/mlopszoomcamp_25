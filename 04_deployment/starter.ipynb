{
 "cells": [
  {
   "cell_type": "markdown",
   "id": "2fd93764",
   "metadata": {},
   "source": [
    "### 🚕 Ride Duration Prediction – Batch Mode\n",
    "\n",
    "This notebook applies a pre-trained model to NYC Yellow Taxi data (March 2023).\n",
    "All results are retained and warnings are suppressed.\n"
   ]
  },
  {
   "cell_type": "code",
   "execution_count": 1,
   "id": "d916216c",
   "metadata": {},
   "outputs": [
    {
     "name": "stdout",
     "output_type": "stream",
     "text": [
      "scikit-learn==1.7.0\n"
     ]
    }
   ],
   "source": [
    "!pip freeze | findstr scikit-learn"
   ]
  },
  {
   "cell_type": "code",
   "execution_count": 2,
   "id": "e0b3afc0",
   "metadata": {},
   "outputs": [
    {
     "name": "stdout",
     "output_type": "stream",
     "text": [
      "Python 3.10.9\n"
     ]
    }
   ],
   "source": [
    "!python -V"
   ]
  },
  {
   "cell_type": "code",
   "execution_count": 9,
   "id": "8f2c40bd",
   "metadata": {},
   "outputs": [
    {
     "data": {
      "text/plain": [
       "np.float64(6.247)"
      ]
     },
     "execution_count": 9,
     "metadata": {},
     "output_type": "execute_result"
    }
   ],
   "source": [
    "round(y_pred.std(), 3)"
   ]
  },
  {
   "cell_type": "code",
   "execution_count": 22,
   "id": "e0d3b1d6",
   "metadata": {},
   "outputs": [
    {
     "name": "stdout",
     "output_type": "stream",
     "text": [
      "File size: 68,640,820 bytes (65.46 MB)\n"
     ]
    }
   ],
   "source": [
    "import os\n",
    "size_bytes = os.path.getsize(\"output/result.parquet\")\n",
    "size_mb = size_bytes / (1024 * 1024)\n",
    "print(f\"File size: {size_bytes:,} bytes ({size_mb:.2f} MB)\")"
   ]
  },
  {
   "cell_type": "code",
   "execution_count": 49,
   "id": "bd7e8367",
   "metadata": {},
   "outputs": [
    {
     "name": "stdout",
     "output_type": "stream",
     "text": [
      "sha256:057b991ac64b3e75c9c04b5f9395eaf19a6179244c089afdebaad98264bff37c\n"
     ]
    }
   ],
   "source": [
    "from json import load\n",
    "with open(\"Pipfile.lock\", \"rb\") as file_in:\n",
    "    pipfile = load(file_in)\n",
    "    print(pipfile[\"default\"][\"scikit-learn\"][\"hashes\"][0])"
   ]
  },
  {
   "cell_type": "code",
   "execution_count": 56,
   "id": "9e1256e0",
   "metadata": {},
   "outputs": [
    {
     "name": "stdout",
     "output_type": "stream",
     "text": [
      "The mean predicted duration is 0.189 minutes\n"
     ]
    }
   ],
   "source": [
    "!docker build -t ride-duration-prediction:v1 . > /dev/null 2>&1\n",
    "!docker run --rm ride-duration-prediction:v1"
   ]
  }
 ],
 "metadata": {
  "kernelspec": {
   "display_name": "mlopsenv",
   "language": "python",
   "name": "python3"
  },
  "language_info": {
   "name": "python",
   "version": "3.10.9"
  }
 },
 "nbformat": 4,
 "nbformat_minor": 5
}
